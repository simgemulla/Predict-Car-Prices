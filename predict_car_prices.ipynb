{
 "cells": [
  {
   "cell_type": "code",
   "execution_count": 2,
   "id": "63268d29",
   "metadata": {},
   "outputs": [],
   "source": [
    "!pip install jovian -q --upgrade"
   ]
  },
  {
   "cell_type": "code",
   "execution_count": 3,
   "id": "28040b8e",
   "metadata": {},
   "outputs": [
    {
     "data": {
      "application/javascript": [
       "if (window.IPython && IPython.notebook.kernel) IPython.notebook.kernel.execute('jovian.utils.jupyter.get_notebook_name_saved = lambda: \"' + IPython.notebook.notebook_name + '\"')"
      ],
      "text/plain": [
       "<IPython.core.display.Javascript object>"
      ]
     },
     "metadata": {},
     "output_type": "display_data"
    }
   ],
   "source": [
    "import torch\n",
    "import jovian # cloud platform\n",
    "import torch.nn as nn ## help us in creating and training of the neural network\n",
    "import pandas as pd \n",
    "import matplotlib.pyplot as plt\n",
    "import torch.nn.functional as F \n",
    "from torch.utils.data import DataLoader, TensorDataset, random_split ##need to review these "
   ]
  },
  {
   "cell_type": "code",
   "execution_count": 4,
   "id": "980addc8",
   "metadata": {},
   "outputs": [],
   "source": [
    "data = \"car_dataset.csv\""
   ]
  },
  {
   "cell_type": "code",
   "execution_count": 7,
   "id": "1a1bf2d8",
   "metadata": {},
   "outputs": [
    {
     "data": {
      "text/html": [
       "<div>\n",
       "<style scoped>\n",
       "    .dataframe tbody tr th:only-of-type {\n",
       "        vertical-align: middle;\n",
       "    }\n",
       "\n",
       "    .dataframe tbody tr th {\n",
       "        vertical-align: top;\n",
       "    }\n",
       "\n",
       "    .dataframe thead th {\n",
       "        text-align: right;\n",
       "    }\n",
       "</style>\n",
       "<table border=\"1\" class=\"dataframe\">\n",
       "  <thead>\n",
       "    <tr style=\"text-align: right;\">\n",
       "      <th></th>\n",
       "      <th>Car_Name</th>\n",
       "      <th>Year</th>\n",
       "      <th>Selling_Price</th>\n",
       "      <th>Present_Price</th>\n",
       "      <th>Kms_Driven</th>\n",
       "      <th>Fuel_Type</th>\n",
       "      <th>Seller_Type</th>\n",
       "      <th>Transmission</th>\n",
       "      <th>Owner</th>\n",
       "    </tr>\n",
       "  </thead>\n",
       "  <tbody>\n",
       "    <tr>\n",
       "      <th>0</th>\n",
       "      <td>ritz</td>\n",
       "      <td>2014</td>\n",
       "      <td>3.35</td>\n",
       "      <td>5.59</td>\n",
       "      <td>27000</td>\n",
       "      <td>Petrol</td>\n",
       "      <td>Dealer</td>\n",
       "      <td>Manual</td>\n",
       "      <td>0</td>\n",
       "    </tr>\n",
       "    <tr>\n",
       "      <th>1</th>\n",
       "      <td>sx4</td>\n",
       "      <td>2013</td>\n",
       "      <td>4.75</td>\n",
       "      <td>9.54</td>\n",
       "      <td>43000</td>\n",
       "      <td>Diesel</td>\n",
       "      <td>Dealer</td>\n",
       "      <td>Manual</td>\n",
       "      <td>0</td>\n",
       "    </tr>\n",
       "    <tr>\n",
       "      <th>2</th>\n",
       "      <td>ciaz</td>\n",
       "      <td>2017</td>\n",
       "      <td>7.25</td>\n",
       "      <td>9.85</td>\n",
       "      <td>6900</td>\n",
       "      <td>Petrol</td>\n",
       "      <td>Dealer</td>\n",
       "      <td>Manual</td>\n",
       "      <td>0</td>\n",
       "    </tr>\n",
       "    <tr>\n",
       "      <th>3</th>\n",
       "      <td>wagon r</td>\n",
       "      <td>2011</td>\n",
       "      <td>2.85</td>\n",
       "      <td>4.15</td>\n",
       "      <td>5200</td>\n",
       "      <td>Petrol</td>\n",
       "      <td>Dealer</td>\n",
       "      <td>Manual</td>\n",
       "      <td>0</td>\n",
       "    </tr>\n",
       "    <tr>\n",
       "      <th>4</th>\n",
       "      <td>swift</td>\n",
       "      <td>2014</td>\n",
       "      <td>4.60</td>\n",
       "      <td>6.87</td>\n",
       "      <td>42450</td>\n",
       "      <td>Diesel</td>\n",
       "      <td>Dealer</td>\n",
       "      <td>Manual</td>\n",
       "      <td>0</td>\n",
       "    </tr>\n",
       "  </tbody>\n",
       "</table>\n",
       "</div>"
      ],
      "text/plain": [
       "  Car_Name  Year  Selling_Price  Present_Price  Kms_Driven Fuel_Type  \\\n",
       "0     ritz  2014           3.35           5.59       27000    Petrol   \n",
       "1      sx4  2013           4.75           9.54       43000    Diesel   \n",
       "2     ciaz  2017           7.25           9.85        6900    Petrol   \n",
       "3  wagon r  2011           2.85           4.15        5200    Petrol   \n",
       "4    swift  2014           4.60           6.87       42450    Diesel   \n",
       "\n",
       "  Seller_Type Transmission  Owner  \n",
       "0      Dealer       Manual      0  \n",
       "1      Dealer       Manual      0  \n",
       "2      Dealer       Manual      0  \n",
       "3      Dealer       Manual      0  \n",
       "4      Dealer       Manual      0  "
      ]
     },
     "execution_count": 7,
     "metadata": {},
     "output_type": "execute_result"
    }
   ],
   "source": [
    "df_raw = pd.read_csv(data, delimiter=';')\n",
    "df_raw.head()"
   ]
  },
  {
   "cell_type": "code",
   "execution_count": 24,
   "id": "58452077",
   "metadata": {},
   "outputs": [],
   "source": [
    "def customize_dataset(df_raw, random_str):\n",
    "    df = df_raw.copy(deep = True) #copies the df\n",
    "    df = df.sample(int(0.95*len(df)), random_state=int(ord(random_str[0]))) # random sample \n",
    "    df.Year = df.Year * ord(random_str[1])/100. #scale input?\n",
    "    df.Selling_Price = df.Selling_Price * ord(random_str[2])/100. #scale target?\n",
    "    #ord: converts a character into its Unicode code value.\n",
    "    if ord(random_str[3]) % 2 == 1:\n",
    "        df = df.drop(['Car_Name'], axis=1)\n",
    "    return df\n",
    "\n",
    "    "
   ]
  },
  {
   "cell_type": "code",
   "execution_count": 25,
   "id": "6fd32553",
   "metadata": {},
   "outputs": [
    {
     "data": {
      "text/html": [
       "<div>\n",
       "<style scoped>\n",
       "    .dataframe tbody tr th:only-of-type {\n",
       "        vertical-align: middle;\n",
       "    }\n",
       "\n",
       "    .dataframe tbody tr th {\n",
       "        vertical-align: top;\n",
       "    }\n",
       "\n",
       "    .dataframe thead th {\n",
       "        text-align: right;\n",
       "    }\n",
       "</style>\n",
       "<table border=\"1\" class=\"dataframe\">\n",
       "  <thead>\n",
       "    <tr style=\"text-align: right;\">\n",
       "      <th></th>\n",
       "      <th>Year</th>\n",
       "      <th>Selling_Price</th>\n",
       "      <th>Present_Price</th>\n",
       "      <th>Kms_Driven</th>\n",
       "      <th>Fuel_Type</th>\n",
       "      <th>Seller_Type</th>\n",
       "      <th>Transmission</th>\n",
       "      <th>Owner</th>\n",
       "    </tr>\n",
       "  </thead>\n",
       "  <tbody>\n",
       "    <tr>\n",
       "      <th>199</th>\n",
       "      <td>2027.07</td>\n",
       "      <td>0.132</td>\n",
       "      <td>0.58</td>\n",
       "      <td>53000</td>\n",
       "      <td>Petrol</td>\n",
       "      <td>Individual</td>\n",
       "      <td>Manual</td>\n",
       "      <td>0</td>\n",
       "    </tr>\n",
       "    <tr>\n",
       "      <th>201</th>\n",
       "      <td>2030.10</td>\n",
       "      <td>3.575</td>\n",
       "      <td>6.79</td>\n",
       "      <td>58000</td>\n",
       "      <td>Diesel</td>\n",
       "      <td>Dealer</td>\n",
       "      <td>Manual</td>\n",
       "      <td>1</td>\n",
       "    </tr>\n",
       "    <tr>\n",
       "      <th>111</th>\n",
       "      <td>2036.16</td>\n",
       "      <td>1.265</td>\n",
       "      <td>1.50</td>\n",
       "      <td>8700</td>\n",
       "      <td>Petrol</td>\n",
       "      <td>Individual</td>\n",
       "      <td>Manual</td>\n",
       "      <td>0</td>\n",
       "    </tr>\n",
       "    <tr>\n",
       "      <th>125</th>\n",
       "      <td>2029.09</td>\n",
       "      <td>0.990</td>\n",
       "      <td>1.75</td>\n",
       "      <td>40000</td>\n",
       "      <td>Petrol</td>\n",
       "      <td>Individual</td>\n",
       "      <td>Manual</td>\n",
       "      <td>0</td>\n",
       "    </tr>\n",
       "    <tr>\n",
       "      <th>46</th>\n",
       "      <td>2033.13</td>\n",
       "      <td>2.915</td>\n",
       "      <td>4.89</td>\n",
       "      <td>64532</td>\n",
       "      <td>Petrol</td>\n",
       "      <td>Dealer</td>\n",
       "      <td>Manual</td>\n",
       "      <td>0</td>\n",
       "    </tr>\n",
       "  </tbody>\n",
       "</table>\n",
       "</div>"
      ],
      "text/plain": [
       "        Year  Selling_Price  Present_Price  Kms_Driven Fuel_Type Seller_Type  \\\n",
       "199  2027.07          0.132           0.58       53000    Petrol  Individual   \n",
       "201  2030.10          3.575           6.79       58000    Diesel      Dealer   \n",
       "111  2036.16          1.265           1.50        8700    Petrol  Individual   \n",
       "125  2029.09          0.990           1.75       40000    Petrol  Individual   \n",
       "46   2033.13          2.915           4.89       64532    Petrol      Dealer   \n",
       "\n",
       "    Transmission  Owner  \n",
       "199       Manual      0  \n",
       "201       Manual      1  \n",
       "111       Manual      0  \n",
       "125       Manual      0  \n",
       "46        Manual      0  "
      ]
     },
     "execution_count": 25,
     "metadata": {},
     "output_type": "execute_result"
    }
   ],
   "source": [
    "your_name = \"deneme\"\n",
    "df = customize_dataset(df_raw, your_name)\n",
    "df.head()\n",
    "    "
   ]
  },
  {
   "cell_type": "code",
   "execution_count": 26,
   "id": "c7e0a9be",
   "metadata": {},
   "outputs": [],
   "source": [
    "input_columns = [\"Year\",\"Present_Price\",\"Kms_Driven\",\"Owner\"]\n",
    "categorical_columns = [\"Fuel_Type\", \"Seller_Type\", \"Transmission\"]\n",
    "output_columns = [\"Selling_Price\"]"
   ]
  },
  {
   "cell_type": "markdown",
   "id": "9ca5fb01",
   "metadata": {},
   "source": [
    "## Data Preparation Step\n",
    "### We will use Pytorch to predict car prices using machine learning"
   ]
  },
  {
   "cell_type": "code",
   "execution_count": 27,
   "id": "5bdba545",
   "metadata": {},
   "outputs": [
    {
     "data": {
      "text/plain": [
       "(array([[2.02707e+03, 5.80000e-01, 5.30000e+04, 0.00000e+00],\n",
       "        [2.03010e+03, 6.79000e+00, 5.80000e+04, 1.00000e+00],\n",
       "        [2.03616e+03, 1.50000e+00, 8.70000e+03, 0.00000e+00],\n",
       "        ...,\n",
       "        [2.03212e+03, 9.40000e+00, 7.10000e+04, 0.00000e+00],\n",
       "        [2.03616e+03, 8.00000e-01, 2.00000e+04, 0.00000e+00],\n",
       "        [2.03717e+03, 5.10000e-01, 4.30000e+03, 0.00000e+00]]),\n",
       " array([[ 0.132],\n",
       "        [ 3.575],\n",
       "        [ 1.265],\n",
       "        [ 0.99 ],\n",
       "        [ 2.915],\n",
       "        [ 3.85 ],\n",
       "        [ 6.6  ],\n",
       "        [ 3.685],\n",
       "        [ 0.528],\n",
       "        [ 3.575],\n",
       "        [ 0.418],\n",
       "        [ 6.545],\n",
       "        [ 7.645],\n",
       "        [ 3.41 ],\n",
       "        [ 1.595],\n",
       "        [ 7.15 ],\n",
       "        [ 2.75 ],\n",
       "        [ 0.165],\n",
       "        [10.175],\n",
       "        [ 1.32 ],\n",
       "        [ 0.88 ],\n",
       "        [12.375],\n",
       "        [ 4.4  ],\n",
       "        [ 0.44 ],\n",
       "        [ 7.15 ],\n",
       "        [ 9.405],\n",
       "        [ 0.495],\n",
       "        [ 4.345],\n",
       "        [ 0.561],\n",
       "        [ 1.155],\n",
       "        [ 7.92 ],\n",
       "        [18.7  ],\n",
       "        [ 4.95 ],\n",
       "        [ 8.25 ],\n",
       "        [ 8.525],\n",
       "        [ 3.795],\n",
       "        [ 4.125],\n",
       "        [15.675],\n",
       "        [ 2.2  ],\n",
       "        [ 9.075],\n",
       "        [10.01 ],\n",
       "        [ 5.775],\n",
       "        [ 5.94 ],\n",
       "        [ 4.4  ],\n",
       "        [ 3.465],\n",
       "        [ 0.44 ],\n",
       "        [ 0.99 ],\n",
       "        [ 3.575],\n",
       "        [ 0.55 ],\n",
       "        [ 3.135],\n",
       "        [36.3  ],\n",
       "        [ 1.265],\n",
       "        [ 4.015],\n",
       "        [ 6.875],\n",
       "        [ 5.225],\n",
       "        [ 2.75 ],\n",
       "        [ 9.889],\n",
       "        [ 1.485],\n",
       "        [ 3.3  ],\n",
       "        [ 2.915],\n",
       "        [ 0.11 ],\n",
       "        [ 2.805],\n",
       "        [ 0.495],\n",
       "        [ 6.325],\n",
       "        [21.989],\n",
       "        [ 0.495],\n",
       "        [ 0.22 ],\n",
       "        [ 5.775],\n",
       "        [11.99 ],\n",
       "        [ 0.495],\n",
       "        [ 6.435],\n",
       "        [ 0.66 ],\n",
       "        [ 5.445],\n",
       "        [ 6.6  ],\n",
       "        [ 6.545],\n",
       "        [ 7.26 ],\n",
       "        [14.19 ],\n",
       "        [ 0.715],\n",
       "        [11.121],\n",
       "        [11.275],\n",
       "        [ 2.585],\n",
       "        [ 0.495],\n",
       "        [ 0.385],\n",
       "        [19.8  ],\n",
       "        [ 4.565],\n",
       "        [ 0.66 ],\n",
       "        [ 6.765],\n",
       "        [ 8.195],\n",
       "        [ 0.715],\n",
       "        [ 0.825],\n",
       "        [ 3.135],\n",
       "        [ 0.528],\n",
       "        [ 7.755],\n",
       "        [ 9.515],\n",
       "        [ 3.245],\n",
       "        [ 1.1  ],\n",
       "        [ 1.155],\n",
       "        [22.825],\n",
       "        [ 3.41 ],\n",
       "        [ 4.84 ],\n",
       "        [ 9.075],\n",
       "        [ 6.325],\n",
       "        [ 6.05 ],\n",
       "        [20.625],\n",
       "        [ 0.66 ],\n",
       "        [10.615],\n",
       "        [16.203],\n",
       "        [ 0.385],\n",
       "        [ 4.95 ],\n",
       "        [ 1.21 ],\n",
       "        [ 5.94 ],\n",
       "        [13.75 ],\n",
       "        [ 5.775],\n",
       "        [ 3.025],\n",
       "        [ 1.045],\n",
       "        [ 0.341],\n",
       "        [ 0.176],\n",
       "        [ 0.462],\n",
       "        [ 2.145],\n",
       "        [ 5.225],\n",
       "        [ 0.275],\n",
       "        [ 3.41 ],\n",
       "        [ 4.95 ],\n",
       "        [ 6.38 ],\n",
       "        [ 8.69 ],\n",
       "        [ 6.49 ],\n",
       "        [ 0.495],\n",
       "        [ 3.96 ],\n",
       "        [ 4.84 ],\n",
       "        [ 0.22 ],\n",
       "        [ 2.805],\n",
       "        [ 1.87 ],\n",
       "        [ 7.535],\n",
       "        [ 0.198],\n",
       "        [ 1.32 ],\n",
       "        [ 3.3  ],\n",
       "        [ 1.21 ],\n",
       "        [ 5.225],\n",
       "        [25.3  ],\n",
       "        [ 0.418],\n",
       "        [ 0.22 ],\n",
       "        [ 5.39 ],\n",
       "        [ 0.825],\n",
       "        [ 1.265],\n",
       "        [ 7.37 ],\n",
       "        [ 3.3  ],\n",
       "        [10.67 ],\n",
       "        [ 2.145],\n",
       "        [ 3.19 ],\n",
       "        [ 0.572],\n",
       "        [ 7.095],\n",
       "        [ 1.221],\n",
       "        [ 4.125],\n",
       "        [ 0.858],\n",
       "        [ 1.65 ],\n",
       "        [ 2.97 ],\n",
       "        [ 6.05 ],\n",
       "        [ 4.18 ],\n",
       "        [ 0.792],\n",
       "        [ 0.66 ],\n",
       "        [ 0.275],\n",
       "        [ 2.915],\n",
       "        [ 3.19 ],\n",
       "        [ 0.825],\n",
       "        [ 5.225],\n",
       "        [ 1.375],\n",
       "        [ 3.861],\n",
       "        [ 3.85 ],\n",
       "        [ 6.215],\n",
       "        [ 0.605],\n",
       "        [ 0.66 ],\n",
       "        [ 0.528],\n",
       "        [ 5.83 ],\n",
       "        [ 9.185],\n",
       "        [ 3.135],\n",
       "        [10.175],\n",
       "        [ 1.32 ],\n",
       "        [ 8.14 ],\n",
       "        [ 8.25 ],\n",
       "        [ 7.975],\n",
       "        [ 3.245],\n",
       "        [ 0.44 ],\n",
       "        [ 5.225],\n",
       "        [ 8.25 ],\n",
       "        [ 9.24 ],\n",
       "        [ 7.04 ],\n",
       "        [ 0.55 ],\n",
       "        [10.45 ],\n",
       "        [ 1.155],\n",
       "        [ 4.29 ],\n",
       "        [25.3  ],\n",
       "        [ 1.375],\n",
       "        [ 2.475],\n",
       "        [ 0.275],\n",
       "        [ 1.21 ],\n",
       "        [ 1.155],\n",
       "        [ 3.19 ],\n",
       "        [ 0.495],\n",
       "        [ 7.425],\n",
       "        [ 0.33 ],\n",
       "        [ 0.55 ],\n",
       "        [ 5.39 ],\n",
       "        [ 4.29 ],\n",
       "        [ 8.195],\n",
       "        [ 0.55 ],\n",
       "        [ 0.495],\n",
       "        [ 5.335],\n",
       "        [16.39 ],\n",
       "        [ 0.22 ],\n",
       "        [ 0.187],\n",
       "        [ 9.35 ],\n",
       "        [ 0.605],\n",
       "        [ 2.475],\n",
       "        [ 4.4  ],\n",
       "        [ 0.55 ],\n",
       "        [ 5.621],\n",
       "        [ 1.815],\n",
       "        [ 9.24 ],\n",
       "        [ 6.6  ],\n",
       "        [ 6.05 ],\n",
       "        [ 1.155],\n",
       "        [ 1.265],\n",
       "        [ 6.435],\n",
       "        [ 3.839],\n",
       "        [ 0.44 ],\n",
       "        [ 4.4  ],\n",
       "        [ 5.775],\n",
       "        [ 3.3  ],\n",
       "        [ 4.95 ],\n",
       "        [10.175],\n",
       "        [ 5.115],\n",
       "        [ 6.05 ],\n",
       "        [ 0.33 ],\n",
       "        [ 0.385],\n",
       "        [ 5.83 ],\n",
       "        [ 5.225],\n",
       "        [ 0.275],\n",
       "        [ 4.95 ],\n",
       "        [ 0.66 ],\n",
       "        [ 5.665],\n",
       "        [12.375],\n",
       "        [ 6.875],\n",
       "        [ 4.345],\n",
       "        [ 0.825],\n",
       "        [10.065],\n",
       "        [ 3.025],\n",
       "        [ 0.275],\n",
       "        [ 6.05 ],\n",
       "        [ 3.685],\n",
       "        [ 5.775],\n",
       "        [ 5.28 ],\n",
       "        [ 2.31 ],\n",
       "        [ 4.95 ],\n",
       "        [ 6.6  ],\n",
       "        [12.595],\n",
       "        [ 0.385],\n",
       "        [ 4.785],\n",
       "        [ 4.4  ],\n",
       "        [ 8.525],\n",
       "        [ 3.41 ],\n",
       "        [ 1.485],\n",
       "        [ 6.71 ],\n",
       "        [ 8.195],\n",
       "        [ 4.84 ],\n",
       "        [ 0.22 ],\n",
       "        [ 0.44 ],\n",
       "        [ 0.462],\n",
       "        [ 5.28 ],\n",
       "        [ 0.33 ],\n",
       "        [25.85 ],\n",
       "        [ 1.485],\n",
       "        [ 7.975],\n",
       "        [ 5.5  ],\n",
       "        [ 0.297],\n",
       "        [ 4.51 ],\n",
       "        [ 0.22 ],\n",
       "        [ 8.525],\n",
       "        [ 0.715],\n",
       "        [12.375],\n",
       "        [ 5.06 ],\n",
       "        [ 1.925],\n",
       "        [12.925],\n",
       "        [ 5.72 ],\n",
       "        [ 0.66 ],\n",
       "        [ 0.528]]))"
      ]
     },
     "execution_count": 27,
     "metadata": {},
     "output_type": "execute_result"
    }
   ],
   "source": [
    "# Converting the dataset from dataframe to Pytorch Tensors:\n",
    "# first convert it to Numpy Array;\n",
    "\n",
    "def df_to_arrays(df):\n",
    "    # copy the dataframe\n",
    "    df_copy = df.copy(deep = True)\n",
    "    #converting non-numeric categories to numeric\n",
    "    for col in categorical_columns:\n",
    "        df_copy[col] = df_copy[col].astype('category').cat.codes # every category assigned to a number\n",
    "        \n",
    "    #convert input and output to numpy arrays\n",
    "    input_array = df_copy[input_columns].to_numpy()\n",
    "    target_array = df_copy[output_columns].to_numpy()\n",
    "    return input_array, target_array\n",
    "\n",
    "\n",
    "\n",
    "input_array, target_array = df_to_arrays(df)\n",
    "\n",
    "input_array, target_array\n",
    "     \n",
    "        \n",
    "    \n",
    "    \n",
    "    \n",
    "    \n",
    "    \n",
    "    \n",
    "    \n",
    "    \n",
    "    \n",
    "    "
   ]
  },
  {
   "cell_type": "code",
   "execution_count": 28,
   "id": "b77863f8",
   "metadata": {},
   "outputs": [],
   "source": [
    "# Now we have numpy arrays. We need to convert them to Pytorch Tensors\n",
    "# and then we can use tensors to create a variable dataset.\n",
    "\n",
    "inputs = torch.Tensor(input_array)\n",
    "targets = torch.Tensor(target_array)\n",
    "\n",
    "dataset = TensorDataset(inputs, targets)\n",
    "\n",
    "train_ds, val_ds = random_split(dataset, [228, 57])\n",
    "batch_size = 128\n",
    "\n",
    "train_loader = DataLoader(train_ds, batch_size, shuffle = True)\n",
    "val_loader = DataLoader(val_ds, batch_size)\n",
    "\n"
   ]
  },
  {
   "cell_type": "markdown",
   "id": "de3bdc0f",
   "metadata": {},
   "source": [
    "## Creating the model"
   ]
  },
  {
   "cell_type": "code",
   "execution_count": 29,
   "id": "961da8d2",
   "metadata": {},
   "outputs": [],
   "source": [
    "input_size = len(input_columns)\n",
    "output_size = len(output_columns)\n"
   ]
  },
  {
   "cell_type": "code",
   "execution_count": 35,
   "id": "ea3afebf",
   "metadata": {},
   "outputs": [
    {
     "data": {
      "text/plain": [
       "[Parameter containing:\n",
       " tensor([[-0.0098,  0.1041,  0.4271, -0.4384]], requires_grad=True),\n",
       " Parameter containing:\n",
       " tensor([0.2391], requires_grad=True)]"
      ]
     },
     "execution_count": 35,
     "metadata": {},
     "output_type": "execute_result"
    }
   ],
   "source": [
    "\n",
    " class CarsModel(nn.Module):\n",
    "        def __init__(self):\n",
    "            super().__init__()\n",
    "            self.linear = nn.Linear(input_size,output_size)\n",
    "            \n",
    "        def forward(self, xb):\n",
    "            out = self.linear(xb)\n",
    "            return out\n",
    "        \n",
    "        def training_step(self,batch):\n",
    "            inputs, targets = batch\n",
    "            # generating predictions\n",
    "            out = self(inputs)\n",
    "            # loss calculation\n",
    "            loss = F.l1_loss(out,targets)\n",
    "            return loss\n",
    "        \n",
    "        def validation_step(self, batch):\n",
    "            inputs, targets = batch\n",
    "            # generating predictions\n",
    "            out = self(inputs)\n",
    "            loss = F.l1_loss(out,targets)\n",
    "            return {'val_loss' : loss.detach()}\n",
    "        \n",
    "        def validation_epoch_end(self, outputs):\n",
    "            batch_losses = [x ['val_loss'] for x in outputs]\n",
    "            epoch_loss = torch.stack(batch_losses).mean() # combine losses\n",
    "            return {'val_loss' : epoch_loss.item()}\n",
    "        \n",
    "        def epoch_end (self, epoch, result, num_epochs):\n",
    "            # print result in every 20 th epoch\n",
    "            if(epoch+1) %20 == 0 or epoch == num_epochs-1:\n",
    "                print(\"Epoch [{}], val_loss: {:.4f}\".format(epoch+1, result['val_loss']) )\n",
    "            \n",
    "            \n",
    "model = CarsModel()\n",
    "\n",
    "list(model.parameters())\n",
    "\n",
    "            \n",
    "\n"
   ]
  },
  {
   "cell_type": "markdown",
   "id": "f7bf5ff0",
   "metadata": {},
   "source": [
    "## Training the model"
   ]
  },
  {
   "cell_type": "code",
   "execution_count": 38,
   "id": "b9da1ce0",
   "metadata": {},
   "outputs": [
    {
     "name": "stdout",
     "output_type": "stream",
     "text": [
      "{'val_loss': 16422.3828125}\n"
     ]
    }
   ],
   "source": [
    "# evalution the algorithm\n",
    "\n",
    "def evaluate(model, val_loader):\n",
    "    outputs = [model.validation_step(batch) for batch in val_loader]\n",
    "    return model.validation_epoch_end(outputs)\n",
    "\n",
    "#fitting algorithm\n",
    "\n",
    "def fit(epochs, lr, model, train_loader, val_loader, opt_func = torch.optim.SGD):\n",
    "    history = []\n",
    "    optimizer = opt_func(model.parameters(), lr)\n",
    "    for epoch in range(epochs):\n",
    "        #training step\n",
    "        for batch in train_loader:\n",
    "            loss = model.training_step(batch)\n",
    "            loss.backward()\n",
    "            optimizer.step()\n",
    "            optimizer.zero_grad()\n",
    "            \n",
    "        #validation step\n",
    "        result = evaluate(model, val_loader)\n",
    "        model.epoch_end(epoch, result, epochs)\n",
    "        history.append(result)\n",
    "    return history\n",
    "\n",
    "# check the initial value that val_loss have \n",
    "\n",
    "result = evaluate(model, val_loader)\n",
    "print(result)\n",
    "            \n",
    "        \n",
    "\n",
    "\n",
    "\n",
    "\n",
    "\n"
   ]
  },
  {
   "cell_type": "markdown",
   "id": "684629ef",
   "metadata": {},
   "source": [
    "### Fitting"
   ]
  },
  {
   "cell_type": "code",
   "execution_count": 41,
   "id": "f8a0e4c8",
   "metadata": {},
   "outputs": [
    {
     "name": "stdout",
     "output_type": "stream",
     "text": [
      "Epoch [20], val_loss: 8060.5161\n",
      "Epoch [40], val_loss: 7500.9473\n",
      "Epoch [60], val_loss: 6943.4941\n",
      "Epoch [80], val_loss: 6386.8442\n",
      "Epoch [100], val_loss: 5828.4336\n"
     ]
    }
   ],
   "source": [
    "epochs = 100 \n",
    "lr = 1e-8\n",
    "history1 = fit(epochs, lr, model, train_loader, val_loader)"
   ]
  },
  {
   "cell_type": "code",
   "execution_count": 42,
   "id": "291ecef5",
   "metadata": {},
   "outputs": [
    {
     "name": "stdout",
     "output_type": "stream",
     "text": [
      "Epoch [20], val_loss: 5772.5835\n"
     ]
    }
   ],
   "source": [
    "# Train repeatdly until have a good val_loss\n",
    "epochs = 20\n",
    "lr = 1e-9\n",
    "history1 = fit(epochs, lr, model, train_loader, val_loader)"
   ]
  },
  {
   "cell_type": "code",
   "execution_count": 43,
   "id": "da9fbaa0",
   "metadata": {},
   "outputs": [
    {
     "name": "stdout",
     "output_type": "stream",
     "text": [
      "Epoch [20], val_loss: 5716.6709\n",
      "Epoch [40], val_loss: 5660.9507\n"
     ]
    }
   ],
   "source": [
    "epochs = 40 \n",
    "lr = 1e-9\n",
    "history1 = fit(epochs, lr, model, train_loader, val_loader)"
   ]
  },
  {
   "cell_type": "code",
   "execution_count": 44,
   "id": "048d58c5",
   "metadata": {},
   "outputs": [
    {
     "name": "stdout",
     "output_type": "stream",
     "text": [
      "Epoch [20], val_loss: 5102.1616\n",
      "Epoch [40], val_loss: 4544.2339\n",
      "Epoch [60], val_loss: 3986.6428\n",
      "Epoch [80], val_loss: 3428.8384\n"
     ]
    }
   ],
   "source": [
    "epochs = 80 \n",
    "lr = 1e-8\n",
    "history1 = fit(epochs, lr, model, train_loader, val_loader)"
   ]
  },
  {
   "cell_type": "code",
   "execution_count": 45,
   "id": "937d45e7",
   "metadata": {},
   "outputs": [
    {
     "name": "stdout",
     "output_type": "stream",
     "text": [
      "Epoch [20], val_loss: 2871.2195\n",
      "Epoch [40], val_loss: 2314.0083\n",
      "Epoch [60], val_loss: 1758.5978\n",
      "Epoch [70], val_loss: 1481.6649\n"
     ]
    }
   ],
   "source": [
    "epochs = 70 \n",
    "lr = 1e-8\n",
    "history1 = fit(epochs, lr, model, train_loader, val_loader)"
   ]
  },
  {
   "cell_type": "code",
   "execution_count": 46,
   "id": "f90656d5",
   "metadata": {},
   "outputs": [
    {
     "name": "stdout",
     "output_type": "stream",
     "text": [
      "Epoch [20], val_loss: 928.7355\n",
      "Epoch [40], val_loss: 380.4512\n",
      "Epoch [60], val_loss: 48.2855\n",
      "Epoch [80], val_loss: 47.5562\n",
      "Epoch [100], val_loss: 47.0797\n"
     ]
    }
   ],
   "source": [
    "epochs = 100 \n",
    "lr = 1e-8\n",
    "history1 = fit(epochs, lr, model, train_loader, val_loader)"
   ]
  },
  {
   "cell_type": "code",
   "execution_count": 47,
   "id": "9e73fde9",
   "metadata": {},
   "outputs": [
    {
     "name": "stdout",
     "output_type": "stream",
     "text": [
      "Epoch [20], val_loss: 46.6961\n",
      "Epoch [40], val_loss: 45.9884\n",
      "Epoch [60], val_loss: 45.5300\n",
      "Epoch [80], val_loss: 45.1270\n"
     ]
    }
   ],
   "source": [
    "epochs = 80 \n",
    "lr = 1e-8\n",
    "history1 = fit(epochs, lr, model, train_loader, val_loader)"
   ]
  },
  {
   "cell_type": "code",
   "execution_count": 48,
   "id": "8fff0785",
   "metadata": {},
   "outputs": [
    {
     "name": "stdout",
     "output_type": "stream",
     "text": [
      "Epoch [20], val_loss: 44.5945\n",
      "Epoch [40], val_loss: 44.1904\n",
      "Epoch [60], val_loss: 43.7178\n",
      "Epoch [80], val_loss: 43.1498\n",
      "Epoch [100], val_loss: 42.5990\n"
     ]
    }
   ],
   "source": [
    "epochs = 100 \n",
    "lr = 1e-8\n",
    "history1 = fit(epochs, lr, model, train_loader, val_loader)"
   ]
  },
  {
   "cell_type": "code",
   "execution_count": 49,
   "id": "d918ebd0",
   "metadata": {},
   "outputs": [
    {
     "name": "stdout",
     "output_type": "stream",
     "text": [
      "Epoch [20], val_loss: 42.2373\n",
      "Epoch [40], val_loss: 41.4466\n",
      "Epoch [60], val_loss: 40.9101\n",
      "Epoch [80], val_loss: 40.4529\n"
     ]
    }
   ],
   "source": [
    "epochs = 80 \n",
    "lr = 1e-8\n",
    "history1 = fit(epochs, lr, model, train_loader, val_loader)"
   ]
  },
  {
   "cell_type": "code",
   "execution_count": 50,
   "id": "e5725226",
   "metadata": {},
   "outputs": [
    {
     "name": "stdout",
     "output_type": "stream",
     "text": [
      "Epoch [20], val_loss: 39.8497\n",
      "Epoch [40], val_loss: 39.5868\n",
      "Epoch [60], val_loss: 38.9476\n",
      "Epoch [80], val_loss: 38.4655\n",
      "Epoch [100], val_loss: 37.8831\n"
     ]
    }
   ],
   "source": [
    "epochs = 100 \n",
    "lr = 1e-8\n",
    "history1 = fit(epochs, lr, model, train_loader, val_loader)"
   ]
  },
  {
   "cell_type": "code",
   "execution_count": 51,
   "id": "250b1683",
   "metadata": {},
   "outputs": [
    {
     "name": "stdout",
     "output_type": "stream",
     "text": [
      "Epoch [20], val_loss: 37.2713\n",
      "Epoch [40], val_loss: 37.1001\n",
      "Epoch [60], val_loss: 36.4330\n",
      "Epoch [80], val_loss: 35.9147\n",
      "Epoch [100], val_loss: 35.2172\n"
     ]
    }
   ],
   "source": [
    "epochs = 100 \n",
    "lr = 1e-8\n",
    "history1 = fit(epochs, lr, model, train_loader, val_loader)"
   ]
  },
  {
   "cell_type": "code",
   "execution_count": 52,
   "id": "e3af0a23",
   "metadata": {},
   "outputs": [
    {
     "name": "stdout",
     "output_type": "stream",
     "text": [
      "Epoch [20], val_loss: 35.0018\n",
      "Epoch [40], val_loss: 34.2667\n",
      "Epoch [60], val_loss: 33.9646\n",
      "Epoch [80], val_loss: 33.2233\n",
      "Epoch [100], val_loss: 32.7170\n"
     ]
    }
   ],
   "source": [
    "epochs = 100 \n",
    "lr = 1e-8\n",
    "history1 = fit(epochs, lr, model, train_loader, val_loader)"
   ]
  },
  {
   "cell_type": "code",
   "execution_count": 53,
   "id": "659fd45a",
   "metadata": {},
   "outputs": [
    {
     "name": "stdout",
     "output_type": "stream",
     "text": [
      "Epoch [20], val_loss: 32.5893\n",
      "Epoch [40], val_loss: 31.7008\n",
      "Epoch [60], val_loss: 31.1708\n",
      "Epoch [80], val_loss: 30.8828\n",
      "Epoch [100], val_loss: 30.4542\n"
     ]
    }
   ],
   "source": [
    "epochs = 100 \n",
    "lr = 1e-8\n",
    "history1 = fit(epochs, lr, model, train_loader, val_loader)"
   ]
  },
  {
   "cell_type": "code",
   "execution_count": 54,
   "id": "b2f34dbe",
   "metadata": {},
   "outputs": [
    {
     "name": "stdout",
     "output_type": "stream",
     "text": [
      "Epoch [20], val_loss: 29.5809\n",
      "Epoch [40], val_loss: 29.1787\n",
      "Epoch [60], val_loss: 28.6551\n",
      "Epoch [80], val_loss: 28.3259\n"
     ]
    }
   ],
   "source": [
    "epochs = 80 \n",
    "lr = 1e-8\n",
    "history1 = fit(epochs, lr, model, train_loader, val_loader)"
   ]
  },
  {
   "cell_type": "code",
   "execution_count": 55,
   "id": "3d069e1a",
   "metadata": {},
   "outputs": [
    {
     "name": "stdout",
     "output_type": "stream",
     "text": [
      "Epoch [20], val_loss: 27.8462\n",
      "Epoch [40], val_loss: 27.0899\n",
      "Epoch [60], val_loss: 26.5409\n",
      "Epoch [80], val_loss: 26.1124\n",
      "Epoch [100], val_loss: 25.8003\n"
     ]
    }
   ],
   "source": [
    "epochs = 100 \n",
    "lr = 1e-8\n",
    "history1 = fit(epochs, lr, model, train_loader, val_loader)"
   ]
  },
  {
   "cell_type": "code",
   "execution_count": 56,
   "id": "1d56745a",
   "metadata": {},
   "outputs": [
    {
     "name": "stdout",
     "output_type": "stream",
     "text": [
      "Epoch [20], val_loss: 25.0465\n",
      "Epoch [40], val_loss: 24.5930\n",
      "Epoch [60], val_loss: 24.2319\n",
      "Epoch [80], val_loss: 23.5196\n",
      "Epoch [100], val_loss: 23.3849\n"
     ]
    }
   ],
   "source": [
    "epochs = 100 \n",
    "lr = 1e-8\n",
    "history1 = fit(epochs, lr, model, train_loader, val_loader)"
   ]
  },
  {
   "cell_type": "code",
   "execution_count": 57,
   "id": "c8290bff",
   "metadata": {},
   "outputs": [
    {
     "name": "stdout",
     "output_type": "stream",
     "text": [
      "Epoch [20], val_loss: 23.0273\n",
      "Epoch [40], val_loss: 22.9602\n",
      "Epoch [60], val_loss: 22.9002\n",
      "Epoch [80], val_loss: 22.8499\n",
      "Epoch [100], val_loss: 22.7976\n"
     ]
    }
   ],
   "source": [
    "epochs = 100 \n",
    "lr = 1e-9\n",
    "history1 = fit(epochs, lr, model, train_loader, val_loader)"
   ]
  },
  {
   "cell_type": "code",
   "execution_count": 62,
   "id": "58db50f0",
   "metadata": {},
   "outputs": [
    {
     "name": "stdout",
     "output_type": "stream",
     "text": [
      "Epoch [20], val_loss: 22.7551\n",
      "Epoch [40], val_loss: 22.6953\n",
      "Epoch [60], val_loss: 22.6522\n",
      "Epoch [80], val_loss: 22.5991\n",
      "Epoch [100], val_loss: 22.5477\n"
     ]
    }
   ],
   "source": [
    "epochs = 100 \n",
    "lr = 1e-9\n",
    "history1 = fit(epochs, lr, model, train_loader, val_loader)"
   ]
  },
  {
   "cell_type": "code",
   "execution_count": 63,
   "id": "6d11056f",
   "metadata": {},
   "outputs": [
    {
     "name": "stdout",
     "output_type": "stream",
     "text": [
      "Epoch [20], val_loss: 22.2815\n",
      "Epoch [40], val_loss: 21.5574\n",
      "Epoch [60], val_loss: 21.1252\n",
      "Epoch [80], val_loss: 20.4866\n",
      "Epoch [100], val_loss: 20.6266\n"
     ]
    }
   ],
   "source": [
    "epochs = 100 \n",
    "lr = 1e-8\n",
    "history1 = fit(epochs, lr, model, train_loader, val_loader)"
   ]
  },
  {
   "cell_type": "code",
   "execution_count": 67,
   "id": "5584acbd",
   "metadata": {},
   "outputs": [
    {
     "name": "stdout",
     "output_type": "stream",
     "text": [
      "Epoch [20], val_loss: 19.9865\n"
     ]
    }
   ],
   "source": [
    "epochs = 20 \n",
    "lr = 1e-9\n",
    "history1 = fit(epochs, lr, model, train_loader, val_loader)"
   ]
  },
  {
   "cell_type": "markdown",
   "id": "d0223382",
   "metadata": {},
   "source": [
    "## Using the model Predict the Prices"
   ]
  },
  {
   "cell_type": "code",
   "execution_count": 68,
   "id": "b556a60f",
   "metadata": {},
   "outputs": [
    {
     "name": "stdout",
     "output_type": "stream",
     "text": [
      "Input:  tensor([2.0341e+03, 8.1000e-01, 4.2000e+04, 0.0000e+00])\n",
      "Target:  tensor([0.4620])\n",
      "Prediction:  tensor([0.0639])\n"
     ]
    }
   ],
   "source": [
    "# Prediction Algorithm\n",
    "\n",
    "def predict_single(input, target, model):\n",
    "    inputs = input.unsqueeze(0) #Returns a new tensor with a dimension of size one inserted at the specified position.\n",
    "    predictions = model(inputs)\n",
    "    prediction = predictions[0].detach()\n",
    "    print(\"Input: \", input)\n",
    "    print(\"Target: \", target)\n",
    "    print(\"Prediction: \", prediction)\n",
    "    \n",
    "    \n",
    "#Testing with some sample data\n",
    "\n",
    "input, target = val_ds[0]\n",
    "predict_single(input,target, model)"
   ]
  },
  {
   "cell_type": "code",
   "execution_count": 69,
   "id": "49da6f15",
   "metadata": {},
   "outputs": [
    {
     "name": "stdout",
     "output_type": "stream",
     "text": [
      "Input:  tensor([2.0341e+03, 7.0000e+00, 3.6054e+04, 0.0000e+00])\n",
      "Target:  tensor([4.2900])\n",
      "Prediction:  tensor([-2.7124])\n"
     ]
    }
   ],
   "source": [
    "input, target = val_ds[10]\n",
    "predict_single(input,target, model)"
   ]
  },
  {
   "cell_type": "code",
   "execution_count": 70,
   "id": "b1a476a9",
   "metadata": {},
   "outputs": [
    {
     "name": "stdout",
     "output_type": "stream",
     "text": [
      "Input:  tensor([2.0301e+03, 5.2000e-01, 2.2000e+04, 0.0000e+00])\n",
      "Target:  tensor([0.2750])\n",
      "Prediction:  tensor([-11.4137])\n"
     ]
    }
   ],
   "source": [
    "input, target = val_ds[3]\n",
    "predict_single(input,target, model)"
   ]
  },
  {
   "cell_type": "code",
   "execution_count": 71,
   "id": "39ee53bc",
   "metadata": {},
   "outputs": [
    {
     "name": "stdout",
     "output_type": "stream",
     "text": [
      "Input:  tensor([2.0341e+03, 6.8000e+00, 1.6500e+04, 0.0000e+00])\n",
      "Target:  tensor([5.8300])\n",
      "Prediction:  tensor([-13.9727])\n"
     ]
    }
   ],
   "source": [
    "input, target = val_ds[12]\n",
    "predict_single(input,target, model)"
   ]
  },
  {
   "cell_type": "code",
   "execution_count": null,
   "id": "bbd2019b",
   "metadata": {},
   "outputs": [],
   "source": []
  }
 ],
 "metadata": {
  "kernelspec": {
   "display_name": "Python 3",
   "language": "python",
   "name": "python3"
  },
  "language_info": {
   "codemirror_mode": {
    "name": "ipython",
    "version": 3
   },
   "file_extension": ".py",
   "mimetype": "text/x-python",
   "name": "python",
   "nbconvert_exporter": "python",
   "pygments_lexer": "ipython3",
   "version": "3.8.8"
  }
 },
 "nbformat": 4,
 "nbformat_minor": 5
}
